{
  "nbformat": 4,
  "nbformat_minor": 0,
  "metadata": {
    "colab": {
      "name": "Assignment4.ipynb",
      "provenance": [],
      "collapsed_sections": []
    },
    "language_info": {
      "name": "python"
    },
    "kernelspec": {
      "name": "python3",
      "display_name": "Python 3"
    }
  },
  "cells": [
    {
      "cell_type": "markdown",
      "metadata": {
        "id": "MV-Baq834KT6"
      },
      "source": [
        "# Assignment 4: Language Processing with RNN-Based Autoencoders\n",
        "\n",
        "**Deadline**: Sunday, June 15th, by 9pm.\n",
        "\n",
        "\n",
        "**Submission**: Submit a PDF export of the completed notebook as well as the ipynb file. \n",
        "\n",
        "In this assignement, we will practice the application of deep learning to natural language processing.\n",
        "We will be working with a subset of Reuters news headlines that are collected over 15 months,\n",
        "covering all of 2019, plus a few months in 2018 and in a few months of this year.\n",
        "\n",
        "In particular, we will be building an **autoencoder** of news headlines. The idea is similar\n",
        "to the kind of image autoencoder we built in lecture: we will have an **encoder** that\n",
        "maps a news headline to a vector embedding, and then a **decoder** that reconstructs\n",
        "the news headline. Both our encoder and decoder networks will be Recurrent Neural Networks,\n",
        "so that you have a chance to practice building\n",
        "\n",
        "- a neural network that takes a sequence as an input\n",
        "- a neural network that generates a sequence as an output\n",
        "\n",
        "This assignment is organized as follows:\n",
        "\n",
        "- Question 1. Exploring the data\n",
        "- Question 2. Building the autoencoder\n",
        "- Question 3. Training the autoencoder using *data augmentation*\n",
        "- Question 4. Analyzing the embeddings (interpolating between headlines)\n",
        "\n",
        "Furthermore, we'll be introducing the idea of **data augmentation** for improving of\n",
        "the robustness of the autoencoder, as proposed by Shen et al [1] in ICML 2020.\n",
        "\n",
        "[1] Shen, Tianxiao, Jonas Mueller, Regina Barzilay, and Tommi Jaakkola. \"Educating text autoencoders: Latent representation guidance via denoising.\" In International Conference on Machine Learning, pp. 8719-8729. PMLR, 2020."
      ]
    },
    {
      "cell_type": "code",
      "metadata": {
        "id": "_CobqQza4KUC"
      },
      "source": [
        "import torch\n",
        "import torch.nn as nn\n",
        "import torch.nn.functional as F\n",
        "import torch.optim as optim\n",
        "\n",
        "import matplotlib.pyplot as plt\n",
        "import numpy as np\n",
        "import random\n",
        "from collections import Counter"
      ],
      "execution_count": 2,
      "outputs": []
    },
    {
      "cell_type": "markdown",
      "metadata": {
        "id": "cSz5FCNh4KUD"
      },
      "source": [
        "## Question 1. Data (20 %)\n",
        "\n",
        "Download the files `reuters_train.txt` and `reuters_valid.txt`, and upload them to Google Drive.\n",
        "\n",
        "Then, mount Google Drive from your Google Colab notebook:"
      ]
    },
    {
      "cell_type": "code",
      "metadata": {
        "colab": {
          "base_uri": "https://localhost:8080/"
        },
        "id": "fnABNyg94KUE",
        "outputId": "839c4f73-71ed-462a-862f-6af5199833be"
      },
      "source": [
        "from google.colab import drive\n",
        "drive.mount('/content/gdrive')\n",
        "\n",
        "train_path = '/content/gdrive/Shareddrives/Deep learning/Ex4/reuters_train.txt' # Update me\n",
        "valid_path = '/content/gdrive/Shareddrives/Deep learning/Ex4/reuters_valid.txt' # Update me"
      ],
      "execution_count": 3,
      "outputs": [
        {
          "output_type": "stream",
          "name": "stdout",
          "text": [
            "Mounted at /content/gdrive\n"
          ]
        }
      ]
    },
    {
      "cell_type": "markdown",
      "metadata": {
        "id": "hdkp4HLW4KUE"
      },
      "source": [
        "As we did in some of our examples (e.g., training transformers on IMDB reviews) will be using PyTorch's `torchtext` utilities to help us load, process,\n",
        "and batch the data. We'll be using a `TabularDataset` to load our data, which works well on structured\n",
        "CSV data with fixed columns (e.g. a column for the sequence, a column for the label). Our tabular dataset\n",
        "is even simpler: we have no labels, just some text. So, we are treating our data as a table with one field\n",
        "representing our sequence."
      ]
    },
    {
      "cell_type": "code",
      "metadata": {
        "id": "I2PjMSho4KUF"
      },
      "source": [
        "import torchtext.legacy.data as data\n",
        "\n",
        "# Tokenization function to separate a headline into words\n",
        "def tokenize_headline(headline):\n",
        "    \"\"\"Returns the sequence of words in the string headline. We also\n",
        "    prepend the \"<bos>\" or beginning-of-string token, and append the\n",
        "    \"<eos>\" or end-of-string token to the headline.\n",
        "    \"\"\"\n",
        "    return (\"<bos> \" + headline + \" <eos>\").split()\n",
        "\n",
        "# Data field (column) representing our *text*.\n",
        "text_field = data.Field(\n",
        "    sequential=True,            # this field consists of a sequence\n",
        "    tokenize=tokenize_headline, # how to split sequences into words\n",
        "    include_lengths=True,       # to track the length of sequences, for batching\n",
        "    batch_first=True,           # similar to batch_first=True used in nn.RNN demonstrated in lecture\n",
        "    use_vocab=True)             # to turn each character into an integer index\n",
        "train_data = data.TabularDataset(\n",
        "    path=train_path,                # data file path\n",
        "    format=\"tsv\",                   # fields are separated by a tab\n",
        "    fields=[('title', text_field)]) # list of fields (we have only one)"
      ],
      "execution_count": 4,
      "outputs": []
    },
    {
      "cell_type": "markdown",
      "metadata": {
        "id": "7TNlqCRM4KUF"
      },
      "source": [
        "### Part (a) -- 5%\n",
        "\n",
        "Draw histograms of the number of words per headline in our training set.\n",
        "Excluding the `<bos>` and `<eos>` tags in your computation.\n",
        "Explain why we would be interested in such histograms."
      ]
    },
    {
      "cell_type": "code",
      "metadata": {
        "id": "mBPd0ezl4KUG",
        "colab": {
          "base_uri": "https://localhost:8080/",
          "height": 347
        },
        "outputId": "16ee607c-5882-406d-b672-1e875a9d6ebd"
      },
      "source": [
        "# Include your histogram and your written explanations\n",
        "\n",
        "# Here is an example of how to plot a histogram in matplotlib:\n",
        "# plt.hist(np.random.normal(0, 1, 40), bins=20)\n",
        "\n",
        "# Here are some sample code that uses the train_data object:\n",
        "print(train_data[5].title)\n",
        "for example in train_data:\n",
        "    print(example.title)\n",
        "    break\n",
        "\n",
        "lenn = [len(example.title) - 2 for example in train_data]\n",
        "plt.hist(lenn, bins = [i for i in range(max(lenn))])\n",
        "plt.title('Number of words per headline in training set')\n",
        "plt.xlabel('Number of words per headline')\n",
        "plt.ylabel('Number of headline')\n",
        "plt.show\n"
      ],
      "execution_count": 5,
      "outputs": [
        {
          "output_type": "stream",
          "name": "stdout",
          "text": [
            "['<bos>', 'u.s.', 'navy', 'pursuing', 'block', 'buy', 'of', 'two', 'aircraft', 'carriers', '-', 'senator', '<eos>']\n",
            "['<bos>', 'dems', 'move', 'to', 'end', 'shutdown', ',', 'without', 'wall', 'money', '<eos>']\n"
          ]
        },
        {
          "output_type": "execute_result",
          "data": {
            "text/plain": [
              "<function matplotlib.pyplot.show>"
            ]
          },
          "metadata": {},
          "execution_count": 5
        },
        {
          "output_type": "display_data",
          "data": {
            "image/png": "[encoded data removed]",
            "text/plain": [
              "<Figure size 432x288 with 1 Axes>"
            ]
          },
          "metadata": {
            "needs_background": "light"
          }
        }
      ]
    },
    {
      "cell_type": "markdown",
      "metadata": {
        "id": "CWnes5SVRwxl"
      },
      "source": [
        "**Write your explanation here:**\n",
        " It help to us choose the right model. \n",
        " 1. The size of the hidden layer that need to be large enough for representation of headline.\n",
        " 2. The number of layers and neurons (for example , clasic outoencouder architecture : 128 ,64 ,32 ,16 ,32 , 64 ,128)\n"
      ]
    },
    {
      "cell_type": "markdown",
      "metadata": {
        "id": "gm3ysTzh4KUG"
      },
      "source": [
        "### Part (b) -- 5%\n",
        "\n",
        "How many distinct words appear in the training data?\n",
        "Exclude the `<bos>` and `<eos>` tags in your computation."
      ]
    },
    {
      "cell_type": "code",
      "metadata": {
        "id": "2x5wf7h14KUG",
        "colab": {
          "base_uri": "https://localhost:8080/"
        },
        "outputId": "6c591c95-8b23-4389-e005-560a3791a4eb"
      },
      "source": [
        "# Report your values here. Make sure that you report the actual values,\n",
        "# and not just the code used to get those values\n",
        "\n",
        "train_words = np.concatenate([np.array(i[1:-1]) for i in train_data.title])\n",
        "c = Counter(train_words)\n",
        "total = len(c.keys())\n",
        "print(f\"Distinct words num: {total}\")\n",
        "\n",
        "# You might find the python class Counter from the collections package useful"
      ],
      "execution_count": 6,
      "outputs": [
        {
          "output_type": "stream",
          "name": "stdout",
          "text": [
            "Distinct words num: 51298\n"
          ]
        }
      ]
    },
    {
      "cell_type": "markdown",
      "metadata": {
        "id": "e5lgEwiM4KUH"
      },
      "source": [
        "### Part (c) -- 5%\n",
        "\n",
        "The distribution of *words* will have a long tail, meaning that there are some words\n",
        "that will appear very often, and many words that will appear infrequently. How many words\n",
        "appear exactly once in the training set? Exactly twice?\n",
        "Print these numbers below"
      ]
    },
    {
      "cell_type": "code",
      "metadata": {
        "id": "RpkUDVoC4KUH",
        "colab": {
          "base_uri": "https://localhost:8080/"
        },
        "outputId": "57374225-e332-4c69-dcfa-6d9a6fc9b866"
      },
      "source": [
        "# Report your values here. Make sure that you report the actual values,\n",
        "# and not just the code used to get those values\n",
        "train_words = np.concatenate([np.array(i[1:-1]) for i in train_data.title])\n",
        "c = Counter(train_words)\n",
        "\n",
        "\n",
        "#Part (c):\n",
        "counts = np.array(list(c.most_common()))\n",
        "print(\"\\n words num that appear exactly once: \",sum(counts[:,1]=='1'))\n",
        "print(\"\\n words num that appear exactly twice:\", sum(counts[:,1]=='2'))"
      ],
      "execution_count": 7,
      "outputs": [
        {
          "output_type": "stream",
          "name": "stdout",
          "text": [
            "\n",
            " words num that appear exactly once:  19854\n",
            "\n",
            " words num that appear exactly twice: 7193\n"
          ]
        }
      ]
    },
    {
      "cell_type": "markdown",
      "metadata": {
        "id": "K3RKPwdI4KUI"
      },
      "source": [
        "### Part (d) -- 5%\n",
        "We will replace the infrequent\n",
        "words with an `<unk>` tag, instead of learning embeddings for these rare words. `torchtext` also provides us with the `<pad>` tag used for padding short sequences for batching.\n",
        "We will thus only model the top 9995 words in the training set, excluding the tags\n",
        "`<bos>`, `<eos>`, `<unk>`, and `<pad>`.\n",
        "\n",
        "What percentage of total word count(whole dataset) will be supported? Alternatively, what percentage\n",
        "of total word count(whole dataset) in the training set will be set to the `<unk>` tag?"
      ]
    },
    {
      "cell_type": "code",
      "metadata": {
        "id": "Cva5DC_64KUI",
        "colab": {
          "base_uri": "https://localhost:8080/"
        },
        "outputId": "3852533f-0c4c-4c3e-899c-d6f082350d1e"
      },
      "source": [
        "# Report your values here. Make sure that you report the actual values,\n",
        "# and not just the code used to get those values\n",
        "train_words = np.concatenate([np.array(i[1:-1]) for i in train_data.title])\n",
        "c = Counter(train_words)\n",
        "\n",
        "sum_occ = sum(c.values()) \n",
        "top_occ = 0 \n",
        "for entry in c.most_common(9995): top_occ += entry[1]\n",
        "print(f\"Supported word Percent: {(100 * (top_occ / sum_occ)):.2f}%\")\n",
        "print(f\"Word Percent that set to the <unk> tag: {(100 * (1 - top_occ / sum_occ)):.2f}%\")"
      ],
      "execution_count": 8,
      "outputs": [
        {
          "output_type": "stream",
          "name": "stdout",
          "text": [
            "Supported word Percent: 93.98%\n",
            "Word Percent that set to the <unk> tag: 6.02%\n"
          ]
        }
      ]
    },
    {
      "cell_type": "markdown",
      "metadata": {
        "id": "SBV8CTyk4KUJ"
      },
      "source": [
        "The `torchtext` package will help us keep track of our list of unique words, known\n",
        "as a **vocabulary**. A vocabulary also assigns a unique integer index to each word."
      ]
    },
    {
      "cell_type": "code",
      "metadata": {
        "colab": {
          "base_uri": "https://localhost:8080/"
        },
        "id": "GRLFF8j14KUJ",
        "outputId": "fb2a86d2-7ff6-4978-860c-f76a5f2a358b"
      },
      "source": [
        "# Build the vocabulary based on the training data. The vocabulary\n",
        "# can have at most 9997 words (9995 words + the <bos> and <eos> token)\n",
        "text_field.build_vocab(train_data, max_size=9997)\n",
        "\n",
        "# This vocabulary object will be helpful for us\n",
        "vocab = text_field.vocab\n",
        "print(vocab.stoi[\"hello\"]) # for instances, we can convert from string to (unique) index\n",
        "print(vocab.itos[10])      # ... and from word index to string\n",
        "\n",
        "# The size of our vocabulary  \n",
        "vocab_size = len(text_field.vocab.stoi) \n",
        "\n",
        "# Here are the two tokens that torchtext adds for us:\n",
        "print(vocab.itos[0]) # <unk> represents an unknown word not in our vocabulary\n",
        "print(vocab.itos[1]) # <pad> will be used to pad short sequences for batching   "
      ],
      "execution_count": 9,
      "outputs": [
        {
          "output_type": "stream",
          "name": "stdout",
          "text": [
            "0\n",
            "on\n",
            "<unk>\n",
            "<pad>\n"
          ]
        }
      ]
    },
    {
      "cell_type": "markdown",
      "metadata": {
        "id": "bnoMpzC14KUK"
      },
      "source": [
        "## Question 2. Text Autoencoder (40%)\n",
        "\n",
        "Building a text autoencoder is a little more complicated than an image autoencoder like we did in class. So\n",
        "we will need to thoroughly understand the model that we want to build before actually building it. Note that the best and fastest way to complete this assignment is to spend time upfront understanding the architecture. The explanations are quite dense, but it is important to understand the operation of this model. The rationale here is similar in nature to the `seq2seq` RNN model we discussed in class, only we are dealing with unsupervised learning here rather than machine translation. \n",
        "\n",
        "# Architecture description\n",
        "Here is a diagram showing our desired architecture:\n",
        "\n",
        "<img src='https://drive.google.com/uc?id=1UaXAYQvmFbBcuSBQb7ozjSliuVn7bP1Q'>\n",
        "\n",
        "There are two main components to the model: the **encoder** and the **decoder**.\n",
        "As always with neural networks, we'll first describe how to make\n",
        "**predictions** with of these components. Let's get started:\n",
        "\n",
        "The **encoder** will take a sequence of words (a headline) as *input*, and produce an\n",
        "embedding (a vector) that represents the entire headline. In the diagram above,\n",
        "the vector ${\\bf h}^{(7)}$ is the vector embedding containing information about \n",
        "the entire headline.  This portion is very similar\n",
        "to the sentiment analysis RNN that we discussed in lecture (but without the fully-connected\n",
        "layer that makes a prediction).\n",
        "\n",
        "The **decoder** will take an embedding (in the diagram, the vector ${\\bf h}^{(7)}$) as input,\n",
        "and uses a separate RNN to **generate a sequence of words**. To generate a sequence of words,\n",
        "the decoder needs to do the following:\n",
        "\n",
        "\n",
        "1.   Determine the previous word that was generated. This previous word will act as ${\\bf x}^{(t)}$\n",
        "   to our RNN, and will be used to update the hidden state ${\\bf m}^{(t)}$. Since each of our\n",
        "   sequences begin with the `<bos>` token, we'll set ${\\bf x}^{(1)}$ to be the `<bos>` token.\n",
        "2.   Compute the updates to the hidden state ${\\bf m}^{(t)}$ based on the previous hidden state\n",
        "   ${\\bf m}^{(t-1)}$ and ${\\bf x}^{(t)}$. Intuitively, this hidden state vector ${\\bf m}^{(t)}$\n",
        "   is a representation of *all the words we still need to generate*.\n",
        "3. We'll use a fully-connected layer to take a hidden state ${\\bf m}^{(t)}$, and determine\n",
        "   *what the next word should be*. This fully-connected layer solves a *classification problem*,\n",
        "   since we are trying to choose a word out of $K=$ `vocab_size` distinct words. As in a classification\n",
        "   problem, the fully-connected neural network will compute a *probability distribution* over\n",
        "   these `vocab_size` words. In the diagram, we are using ${\\bf z}^{(t)}$ to represent the logits,\n",
        "   or the pre-softmax activation values representing the probability distribution.\n",
        "4. We will need to *sample* an actual word from this probability distribution ${\\bf z}^{(t)}$.\n",
        "   We can do this in a number of ways, which we'll discuss in question 3. For now, you can \n",
        "   imagine your favourite way of picking a word given a distribution over words.\n",
        "5. This word we choose will become the next input ${\\bf x}^{(t+1)}$ to our RNN, which is used\n",
        "   to update our hidden state ${\\bf m}^{(t+1)}$, i.e., to determine what are the remaining\n",
        "   words to be generated.\n",
        "\n",
        "We can repeat this process until we see an `<eos>` token generated, or until the generated\n",
        "sequence becomes too long.\n",
        "\n",
        "# Training the architecture\n",
        "While our autoencoder produces a sequence, computing the loss by comparing the complete generated sequence to the ground truth (the encoder input) gives rise to multiple challanges. One is that the generated\n",
        "sequence might be longer or shorter than the actual sequence, meaning that there may\n",
        "be more/fewer ${\\bf z}^{(t)}$s than ground-truth words. Another more insidious issue\n",
        "is that the **gradients will become very high-variance and unstable**, because\n",
        "**early mistakes will easily throw the model off-track**. Early in training,\n",
        "our model is unlikely to produce the right answer in step $t=1$, so the gradients\n",
        "we obtain based on the other time steps will not be very useful.\n",
        "\n",
        "At this point, you might have some ideas about \"hacks\" we can use to make training\n",
        "work. Fortunately, there is one very well-established solution called\n",
        "**teacher forcing** which we can use for training:\n",
        "instead of *sampling* the next word based on ${\\bf z}^{(t)}$, we will forget sampling,\n",
        "and use the **ground truth** ${\\bf x}^{(t)}$ as the input in the next step.\n",
        "\n",
        "Here is a diagram showing how we can use **teacher forcing** to train our model:\n",
        " \n",
        "<img src='https://drive.google.com/uc?id=1NXlimWaCviDfP8DHlIzyQR1Ie7sxfPuY'>\n",
        "\n",
        "We will use the RNN generator to compute the logits\n",
        "${\\bf z}^{(1)},{\\bf z}^{(2)},  \\cdots {\\bf z}^{(T)}$. These distributions\n",
        "can be compared to the ground-truth words using the cross-entropy loss.\n",
        "The loss function for this model will be the sum of the losses across each $t \\in \\{1,\\ldots,T\\}$.\n",
        "\n",
        "We'll train the encoder and decoder model simultaneously. There are several components\n",
        "to our model that contain tunable weights:\n",
        "\n",
        "- The word embedding that maps a word to a vector representation.\n",
        "  In theory, we could use GloVe embeddings, as we did in class. In this assignment we will not do that, but learn the word embedding from data.\n",
        "  The word embedding component is represented with blue arrows in the diagram.\n",
        "- The encoder RNN (which will use GRUs) that computes the\n",
        "  embedding over the entire headline. The encoder RNN \n",
        "  is represented with black arrows in the diagram.\n",
        "- The decoder RNN (which will also use GRUs) that computes\n",
        "  hidden states, which are vectors representing what words are to be generated.\n",
        "  The decoder RNN is represented with gray arrows in the diagram.\n",
        "- The **projection MLP** (a fully-connected layer) that computes\n",
        "  a distribution over the next word to generate, given a decoder RNN hidden\n",
        "  state. The projection is represented with green arrows \n"
      ]
    },
    {
      "cell_type": "markdown",
      "metadata": {
        "id": "Dk9WDEC90ScA"
      },
      "source": [
        "\n",
        "## Part (a) -- 20%\n",
        "\n",
        "Complete the code for the AutoEncoder class below by:\n",
        "\n",
        "1. Filling in the missing numbers in the `__init__` method using\n",
        "   the parameters `vocab_size`, `emb_size`, and `hidden_size`.  \n",
        "2. Complete the `forward` method, which uses teacher forcing\n",
        "   and computes the logits ${\\bf z}^{(t)}$ of the reconstruction of\n",
        "   the sequence. \n",
        "\n",
        "You should first try to understand the `encode` and `decode` methods,\n",
        "which are written for you. The `encode` method bears much similarity to the\n",
        "RNN we wrote in class for sentiment analysis.  The `decode` method is\n",
        "a bit more challenging. You might want to scroll down to the\n",
        "`sample_sequence` function to see how this function will be called.\n",
        "\n",
        "You can (but don't have to) use the `encode` and `decode` method in\n",
        "your `forward` method. In either case, be careful of the input\n",
        "that you feed into ether `decode` or to `self.decoder_rnn`.\n",
        "Refer to the teacher-forcing diagram.\n",
        "**bold text** Notice that batch_first is set to True, understand how deal with it."
      ]
    },
    {
      "cell_type": "code",
      "metadata": {
        "id": "ey4tslhD4KUO"
      },
      "source": [
        "class AutoEncoder(nn.Module):\n",
        "    def __init__(self, vocab_size, emb_size, hidden_size):\n",
        "        \"\"\"\n",
        "        A text autoencoder. The parameters \n",
        "            - vocab_size: number of unique words/tokens in the vocabulary\n",
        "            - emb_size: size of the word embeddings $x^{(t)}$\n",
        "            - hidden_size: size of the hidden states in both the\n",
        "                           encoder RNN ($h^{(t)}$) and the\n",
        "                           decoder RNN ($m^{(t)}$)\n",
        "        \"\"\"\n",
        "        super().__init__()\n",
        "        self.embed = nn.Embedding(num_embeddings=vocab_size,\n",
        "                                  embedding_dim=emb_size)  \n",
        "        self.encoder_rnn = nn.GRU(input_size=emb_size, \n",
        "                                  hidden_size=hidden_size,\n",
        "                                  batch_first=True)\n",
        "        self.decoder_rnn = nn.GRU(input_size=emb_size,\n",
        "                                  hidden_size=hidden_size,\n",
        "                                  batch_first=True)\n",
        "        self.proj = nn.Linear(in_features=hidden_size,\n",
        "                              out_features=vocab_size)\n",
        "\n",
        "\n",
        "    def encode(self, inp):\n",
        "        \"\"\"\n",
        "        Computes the encoder output given a sequence of words.\n",
        "        \"\"\"\n",
        "        emb = self.embed(inp)\n",
        "        out, last_hidden = self.encoder_rnn(emb)\n",
        "        return last_hidden\n",
        "\n",
        "    def decode(self, inp, hidden=None):\n",
        "        \"\"\"\n",
        "        Computes the decoder output given a sequence of words, and\n",
        "        (optionally) an initial hidden state.\n",
        "        \"\"\"\n",
        "        emb = self.embed(inp)\n",
        "        out, last_hidden = self.decoder_rnn(emb, hidden)\n",
        "        out_seq = self.proj(out)\n",
        "        return out_seq, last_hidden\n",
        "\n",
        "    def forward(self, inp):\n",
        "        \"\"\"\n",
        "        Compute both the encoder and decoder forward pass\n",
        "        given an integer input sequence inp with shape [batch_size, seq_length],\n",
        "        with inp[a,b] representing the (index in our vocabulary of) the b-th word\n",
        "        of the a-th training example.\n",
        "\n",
        "        This function should return the logits $z^{(t)}$ in a tensor of shape\n",
        "        [batch_size, seq_length - 1, vocab_size], computed using *teaching forcing*.\n",
        "\n",
        "        The (seq_length - 1) part is not a typo. If you don't understand why\n",
        "        we need to subtract 1, refer to the teacher-forcing diagram above.\n",
        "        \"\"\"\n",
        "        last_hidden_encoded = self.encode(inp)\n",
        "        output, hidden = self.decode(inp[:,:-1], last_hidden_encoded)\n",
        "        return output, hidden\n"
      ],
      "execution_count": 10,
      "outputs": []
    },
    {
      "cell_type": "markdown",
      "metadata": {
        "id": "_uwpjvIw4KUQ"
      },
      "source": [
        "### Part (b) -- 10%\n",
        "\n",
        "To check that your model is set up correctly, we'll train our autoencoder\n",
        "neural network for at least 300 iterations to memorize this sequence:"
      ]
    },
    {
      "cell_type": "code",
      "metadata": {
        "id": "sJmPNMnY4KUQ"
      },
      "source": [
        "\n",
        "headline = train_data[42].title\n",
        "input_seq = torch.Tensor([vocab.stoi[w] for w in headline]).long().unsqueeze(0)"
      ],
      "execution_count": 11,
      "outputs": []
    },
    {
      "cell_type": "markdown",
      "metadata": {
        "id": "Qj55uU-C4KUQ"
      },
      "source": [
        "We are looking for the way that you set up your loss function\n",
        "corresponding to the figure above.\n",
        "Be  careful of off-by-one errors here.\n",
        "\n",
        "\n",
        "Note that the Cross Entropy Loss expects a rank-2 tensor as its first\n",
        "argument (the output of the network), and a rank-1 tensor as its second argument (the true label). You will\n",
        "need to properly reshape your data to be able to compute the loss."
      ]
    },
    {
      "cell_type": "code",
      "metadata": {
        "id": "aScYWbBx4KUQ",
        "colab": {
          "base_uri": "https://localhost:8080/"
        },
        "outputId": "685b8452-1072-4c7d-b7e4-5c134797bfee"
      },
      "source": [
        "model = AutoEncoder(vocab_size, 128, 128)\n",
        "optimizer = optim.Adam(model.parameters(), lr=0.001)\n",
        "criterion = nn.CrossEntropyLoss()\n",
        "\n",
        "for it in range(300):\n",
        "    optimizer.zero_grad()\n",
        "    output, hidden = model(input_seq)\n",
        "    target = input_seq[:,1:]\n",
        "    loss = criterion(output.reshape(-1, vocab_size),\n",
        "                 target.reshape(-1))\n",
        "    loss.backward()\n",
        "    optimizer.step()\n",
        "\n",
        "\n",
        "    if (it+1) % 50 == 0:\n",
        "        print(\"[Iter %d] Loss %f\" % (it+1, float(loss)))"
      ],
      "execution_count": 12,
      "outputs": [
        {
          "output_type": "stream",
          "name": "stdout",
          "text": [
            "[Iter 50] Loss 0.100383\n",
            "[Iter 100] Loss 0.024982\n",
            "[Iter 150] Loss 0.015665\n",
            "[Iter 200] Loss 0.010994\n",
            "[Iter 250] Loss 0.008234\n",
            "[Iter 300] Loss 0.006444\n"
          ]
        }
      ]
    },
    {
      "cell_type": "markdown",
      "metadata": {
        "id": "SWKYC3z34KUR"
      },
      "source": [
        "### Part (c) -- 4%\n",
        "\n",
        "Once you are satisfied with your model, encode your input using\n",
        "the RNN encoder, and sample some sequences from the decoder. The \n",
        "sampling code is provided to you, and performs the computation\n",
        "from the first diagram (without teacher forcing).\n",
        "\n",
        "Note that we are sampling from a multi-nomial distribution described\n",
        "by the logits $z^{(t)}$. For example, if our distribution is [80%, 20%]\n",
        "over a vocabulary of two words, then we will choose the first word\n",
        "with 80% probability and the second word with 20% probability.\n",
        "\n",
        "Call `sample_sequence` at least 5 times, with the default temperature\n",
        "value. Make sure to include the generated sequences in your PDF\n",
        "report."
      ]
    },
    {
      "cell_type": "code",
      "metadata": {
        "id": "6vjVvmn14KUR",
        "colab": {
          "base_uri": "https://localhost:8080/"
        },
        "outputId": "d5f5c015-135d-41bc-b841-4ba985795a70"
      },
      "source": [
        "def sample_sequence(model, hidden, max_len=20, temperature=1):\n",
        "    \"\"\"\n",
        "    Return a sequence generated from the model's decoder\n",
        "        - model: an instance of the AutoEncoder model\n",
        "        - hidden: a hidden state (e.g. computed by the encoder)\n",
        "        - max_len: the maximum length of the generated sequence\n",
        "        - temperature: described in Part (d)\n",
        "    \"\"\"\n",
        "    # We'll store our generated sequence here\n",
        "    generated_sequence = []\n",
        "    # Set input to the <BOS> token\n",
        "    inp = torch.Tensor([text_field.vocab.stoi[\"<bos>\"]]).long()\n",
        "    for p in range(max_len):\n",
        "        # compute the output and next hidden unit\n",
        "        output, hidden = model.decode(inp.unsqueeze(0), hidden)\n",
        "        # Sample from the network as a multinomial distribution\n",
        "        output_dist = output.data.view(-1).div(temperature).exp()\n",
        "        top_i = int(torch.multinomial(output_dist, 1)[0])\n",
        "        # Add predicted word to string and use as next input\n",
        "        word = text_field.vocab.itos[top_i]\n",
        "        # Break early if we reach <eos>\n",
        "        if word == \"<eos>\":\n",
        "            break\n",
        "        generated_sequence.append(word)\n",
        "        inp = torch.Tensor([top_i]).long()\n",
        "    return generated_sequence\n",
        "\n",
        "# Your solutions go here\n",
        "for i in range(5):\n",
        "  hidden = model.encode(input_seq)\n",
        "  seq = sample_sequence(model, hidden)\n",
        "  print(f'Iteration: {i}; Generated Sequence: {seq}')"
      ],
      "execution_count": 13,
      "outputs": [
        {
          "output_type": "stream",
          "name": "stdout",
          "text": [
            "Iteration: 0; Generated Sequence: ['zambian', 'president', 'swears', 'in', 'new', 'army', 'chief']\n",
            "Iteration: 1; Generated Sequence: ['zambian', 'president', 'swears', 'in', 'new', 'army', 'chief']\n",
            "Iteration: 2; Generated Sequence: ['zambian', 'president', 'swears', 'in', 'new', 'army', 'chief']\n",
            "Iteration: 3; Generated Sequence: ['zambian', 'president', 'swears', 'in', 'new', 'army', 'chief']\n",
            "Iteration: 4; Generated Sequence: ['zambian', 'president', 'swears', 'in', 'new', 'army', 'chief']\n"
          ]
        }
      ]
    },
    {
      "cell_type": "markdown",
      "metadata": {
        "id": "0T7gcPnn4KUR"
      },
      "source": [
        "### Part (d) -- 6%\n",
        "\n",
        "The multi-nomial distribution can be manipulated using the `temperature`\n",
        "setting. This setting can be used to make the distribution \"flatter\" (e.g.\n",
        "more likely to generate different words) or \"peakier\" (e.g. less likely\n",
        "to generate different words).\n",
        "\n",
        "Call `sample_sequence` at least 5 times each for at least 3 different\n",
        "temperature settings (e.g. 1.5, 2, and 5). Explain why we generally\n",
        "don't want the temperature setting to be too **large**.\n",
        "\n",
        "**Answer**\n",
        "\n",
        "because too large temperature setting can make the distribution too much \"flatter\" and thus gives us \"more random\" outputs.\n"
      ]
    },
    {
      "cell_type": "code",
      "metadata": {
        "id": "jA_S0cmE4KUR",
        "colab": {
          "base_uri": "https://localhost:8080/"
        },
        "outputId": "42c9bc14-276d-4bae-8c71-b62eca6ee25e"
      },
      "source": [
        "# Include the generated sequences and explanation in your PDF report.\n",
        "for temp in [1.5, 2, 4]:\n",
        "  for i in range(5):\n",
        "    hidden = model.encode(input_seq)\n",
        "    out_put = sample_sequence(model, hidden, temperature=temp)\n",
        "    print(f'Iteration: {i}; Temperature: {temp}; Generated Sequence:\\n   {out_put}')\n",
        "  print('\\n')"
      ],
      "execution_count": 14,
      "outputs": [
        {
          "output_type": "stream",
          "name": "stdout",
          "text": [
            "Iteration: 0; Temperature: 1.5; Generated Sequence:\n",
            "   ['zambian', 'president', 'swears', 'in', 'prevail', 'rampant', 'objects', 'c', 'chief', 'four-month', 'nats', 'listen', 'hover', 'choose', 'festive', 'byron', 'riyadh', 'standings', 'a.m.', 'chief']\n",
            "Iteration: 1; Temperature: 1.5; Generated Sequence:\n",
            "   ['zambian', 'president', 'swears', 'in', 'new', 'army', 'swears', '_num_-elliott', '_num_-southern', 'flooding', 'calf', 'thing', 'easy', 'tribute']\n",
            "Iteration: 2; Temperature: 1.5; Generated Sequence:\n",
            "   ['sarepta', '-trump', 'floor', 'in', 'new', 'army', 'army', 'insurance', 'must', 'markets-dollar', 'retaliate', 'shelling', 'in', 'army', 'reason', 'new', 'army', 'each', 'boats']\n",
            "Iteration: 3; Temperature: 1.5; Generated Sequence:\n",
            "   ['crimes', 'scoreboard', 'in', 'imposes', 'buildings', 'papers', 'prescriptions', 'ms', 'hail']\n",
            "Iteration: 4; Temperature: 1.5; Generated Sequence:\n",
            "   ['terror', 'zambian', 'president', 'swears', 'in', 'new', 'waste', 'middle']\n",
            "\n",
            "\n",
            "Iteration: 0; Temperature: 2; Generated Sequence:\n",
            "   ['port', 'trafficking', 'casts', 'pulled', 'provider', 'respite', 's', 'abuse', 'whitney', 'disruptions', 'oecd', 'chief', '7th', 'arson', 'mnuchin', 'two-month', '-executive', 'nationwide', 'drifts', 'even']\n",
            "Iteration: 1; Temperature: 2; Generated Sequence:\n",
            "   ['egyptian', 'zambian', 'talking', 'guests', 'bribes', 'helm', 'pill', 'joker', 'swears', 'in', 'nio', 'york', 'north', 'does', 'lab', 'starmer', 'appointment', 'mh17', 'glory', 'clashes']\n",
            "Iteration: 2; Temperature: 2; Generated Sequence:\n",
            "   ['paradise', 'stokes', 'twitter', 'arabian', 'duties', 'galapagos', 'priority', 'environmental', 's.korean', 'ambulance', 'york', 'anything', 'deliveroo', 'biden', 'includes', 'sciences', 'procedures', 'demonstrations', 'chief', '_num_-fiat']\n",
            "Iteration: 3; Temperature: 2; Generated Sequence:\n",
            "   ['citic', 'khashoggi', 'honored', 'storm', 'laver', 'unsafe', 'enemy', 'shapovalov', 'tighter', 'porsche', 'rebel', 'highlight', 'rain', 'insurer', 'evade', '_num_-toyota', 'tonnes', 'fresenius', 'likes', 'expectations']\n",
            "Iteration: 4; Temperature: 2; Generated Sequence:\n",
            "   ['court', 'saudi-led', 'sbi', 'raiders', 'inc', 'count', 'army', 'bps', 'carmaker']\n",
            "\n",
            "\n",
            "Iteration: 0; Temperature: 4; Generated Sequence:\n",
            "   ['split', 'decades', 'diplomacy', 'var', 'federation', 'axes', 'each', 'volvo', 'mcilroy', 'bidding', 'both', 'indicted', '_num_-airlines', 'fuel', 'aversion', 'rapid', 'procedure', 'unidentified', 'belgium', 'customs']\n",
            "Iteration: 1; Temperature: 4; Generated Sequence:\n",
            "   ['testimony', 'adjustments', 'detain', 'starting', 'topple', 'heed', 'bailout', 'moment', 'copenhagen', 'pins', 'march', 'ratify', 'ample', 't-mobile-sprint', 'countries', 'stoke', 'arctic', 'classes', 'winners', 'spotlight']\n",
            "Iteration: 2; Temperature: 4; Generated Sequence:\n",
            "   ['dirty', 'vetoes', 'shines', 'agreement', 'worried', 'stuck', 'descend', 'celebrities', 'swings', 'suggest', 'away', 'sales', 'congratulates', 'retires', 'protections', 'celebration', 'six', 'online', 'sport', 'dampens']\n",
            "Iteration: 3; Temperature: 4; Generated Sequence:\n",
            "   ['pole', 'tipped', 'lebanese', 'pullback', 'nov', 'inaction', 'my', 'stanchart', 'shortly', 'rugby', 'shanahan', '_num_-south', 'warner', 'province', 'xl', 'stabbings', 'beginning', 'autopilot', 'ea', '_num_-huawei']\n",
            "Iteration: 4; Temperature: 4; Generated Sequence:\n",
            "   ['bors', 'feb', 'london', 'preserve', 'network', 'ties', 'baltimore', 'wam', 'prospectus', 'jaguar', 'accuse', 'drawdown', 'retaliatory', 'jumia', 'readying', 'spikes', 'ricard', 'hopes', 'solution', 'children']\n",
            "\n",
            "\n"
          ]
        }
      ]
    },
    {
      "cell_type": "markdown",
      "metadata": {
        "id": "ZK4ptUb54KUS"
      },
      "source": [
        "## Question 3. Data augmentation (20%)\n",
        "\n",
        "It turns out that getting good results from a text auto-encoder is very difficult,\n",
        "and that it is very easy for our model to **overfit**. We have discussed several methods\n",
        "that we can use to prevent overfitting, and we'll introduce one more today:\n",
        "**data augmentation**.\n",
        "\n",
        "The idea behind data augmentation is to artificially increase the number of training\n",
        "examples by \"adding noise\" to the image. For example, during AlexNet training,\n",
        "the authors randomly cropped $224\\times 224$\n",
        "regions of a $256 \\times 256$ pixel image to increase the amount of training data.\n",
        "The authors also flipped the image left/right.\n",
        "Machine learning practitioners can also add Gaussian noise to the image.\n",
        "\n",
        "When we use data augmentation to train an *autoencoder*, we typically to only add\n",
        "the noise to the input, and expect the reconstruction to be *noise free*.\n",
        "This makes the task of the autoencoder even more difficult. An autoencoder trained\n",
        "with noisy inputs is called a **denoising auto-encoder**. For simplicity, we will\n",
        "*not* build a denoising autoencoder today.\n",
        "\n"
      ]
    },
    {
      "cell_type": "markdown",
      "metadata": {
        "id": "yieWyWqS4KUS"
      },
      "source": [
        "### Part (a) -- 5%\n",
        "\n",
        "We will add noise to our headlines using a few different techniques:\n",
        "\n",
        "1. Shuffle the words in the headline, taking care that words don't end up too far from where they were initially\n",
        "2. Drop (remove) some words \n",
        "3. Replace some words with a blank word (a `<pad>` token)\n",
        "4. Replace some words with a random word \n",
        "\n",
        "The code for adding these types of noise is provided for you:"
      ]
    },
    {
      "cell_type": "code",
      "metadata": {
        "id": "IGb3uL5U4KUS"
      },
      "source": [
        "def tokenize_and_randomize(headline,\n",
        "                           drop_prob=0.1,  # probability of dropping a word\n",
        "                           blank_prob=0.1, # probability of \"blanking\" out a word\n",
        "                           sub_prob=0.1,   # probability of substituting a word with a random one\n",
        "                           shuffle_dist=3): # maximum distance to shuffle a word\n",
        "    \"\"\"\n",
        "    Add 'noise' to a headline by slightly shuffling the word order,\n",
        "    dropping some words, blanking out some words (replacing with the <pad> token)\n",
        "    and substituting some words with random ones.\n",
        "    \"\"\"\n",
        "    headline = [vocab.stoi[w] for w in headline.split()]\n",
        "    n = len(headline)\n",
        "    # shuffle\n",
        "    headline = [headline[i] for i in get_shuffle_index(n, shuffle_dist)]\n",
        "\n",
        "    new_headline = [vocab.stoi['<bos>']]\n",
        "    for w in headline:\n",
        "        if random.random() < drop_prob:\n",
        "            # drop the word\n",
        "            pass\n",
        "        elif random.random() < blank_prob:\n",
        "            # replace with blank word\n",
        "            new_headline.append(vocab.stoi[\"<pad>\"])\n",
        "        elif random.random() < sub_prob:\n",
        "            # substitute word with another word\n",
        "            new_headline.append(random.randint(0, vocab_size - 1))\n",
        "        else:\n",
        "            # keep the original word\n",
        "            new_headline.append(w)\n",
        "    new_headline.append(vocab.stoi['<eos>'])\n",
        "    return new_headline\n",
        "\n",
        "def get_shuffle_index(n, max_shuffle_distance):\n",
        "    \"\"\" This is a helper function used to shuffle a headline with n words,\n",
        "    where each word is moved at most max_shuffle_distance. The function does\n",
        "    the following: \n",
        "       1. start with the *unshuffled* index of each word, which\n",
        "          is just the values [0, 1, 2, ..., n]\n",
        "       2. perturb these \"index\" values by a random floating-point value between\n",
        "          [0, max_shuffle_distance]\n",
        "       3. use the sorted position of these values as our new index\n",
        "    \"\"\"\n",
        "    index = np.arange(n)\n",
        "    perturbed_index = index + np.random.rand(n) * 3\n",
        "    new_index = sorted(enumerate(perturbed_index), key=lambda x: x[1])\n",
        "    return [index for (index, pert) in new_index]"
      ],
      "execution_count": 15,
      "outputs": []
    },
    {
      "cell_type": "markdown",
      "metadata": {
        "id": "h8t6eZgy4KUT"
      },
      "source": [
        "Call the function `tokenize_and_randomize` 5 times on a headline of your\n",
        "choice. Make sure to include both your original headline, and the five new\n",
        "headlines in your report."
      ]
    },
    {
      "cell_type": "code",
      "metadata": {
        "id": "CktsYMIE4KUT",
        "colab": {
          "base_uri": "https://localhost:8080/"
        },
        "outputId": "9af896f1-dacd-419a-b7ce-ad82b5fb7f1f"
      },
      "source": [
        "original_headline = ' '.join(train_data[50].title)\n",
        "for i in range(5):\n",
        "  shuff = random.randint(1,5) \n",
        "  drp = round(0.4*np.random.random_sample()+0.1, 2)\n",
        "  blnk = round(0.4*np.random.random_sample()+0.1, 2)\n",
        "  sub = round(0.4*np.random.random_sample()+0.1, 2)\n",
        "  print(f'Iter: {i}, Shuff Dist: {shuff}, P(Drop): {drp}, P(Blank): {blnk\\\n",
        "                                                          }, P(Sub): {sub}')\n",
        "  new_head_indexs = tokenize_and_randomize(original_headline,drp,blnk,sub,shuff)\n",
        "\n",
        "  print(f'\\tOriginal headline: {original_headline}')\n",
        "  new_head = [vocab.itos[w] for w in new_head_indexs]\n",
        "  new_head = ' '.join(new_head)\n",
        "  print(f'\\tNew headline: {new_head}\\n')"
      ],
      "execution_count": 26,
      "outputs": [
        {
          "output_type": "stream",
          "name": "stdout",
          "text": [
            "Iter: 0, Shuff Dist: 1, P(Drop): 0.25, P(Blank): 0.5, P(Sub): 0.34\n",
            "\tOriginal headline: <bos> vehicle ploughs into new year 's crowd in tokyo <eos>\n",
            "\tNew headline: <bos> <unk> <pad> funeral <pad> year <pad> <pad> <pad> <eos> <eos>\n",
            "\n",
            "Iter: 1, Shuff Dist: 2, P(Drop): 0.12, P(Blank): 0.13, P(Sub): 0.43\n",
            "\tOriginal headline: <bos> vehicle ploughs into new year 's crowd in tokyo <eos>\n",
            "\tNew headline: <bos> declines <unk> swine <pad> cross year 's in tokyo <eos>\n",
            "\n",
            "Iter: 2, Shuff Dist: 3, P(Drop): 0.35, P(Blank): 0.4, P(Sub): 0.49\n",
            "\tOriginal headline: <bos> vehicle ploughs into new year 's crowd in tokyo <eos>\n",
            "\tNew headline: <bos> <bos> vehicle obligations <pad> in boxes <pad> <eos>\n",
            "\n",
            "Iter: 3, Shuff Dist: 4, P(Drop): 0.27, P(Blank): 0.33, P(Sub): 0.26\n",
            "\tOriginal headline: <bos> vehicle ploughs into new year 's crowd in tokyo <eos>\n",
            "\tNew headline: <bos> <bos> vehicle <pad> into crowd in <eos>\n",
            "\n",
            "Iter: 4, Shuff Dist: 3, P(Drop): 0.48, P(Blank): 0.21, P(Sub): 0.47\n",
            "\tOriginal headline: <bos> vehicle ploughs into new year 's crowd in tokyo <eos>\n",
            "\tNew headline: <bos> feeds <pad> crowd <pad> <pad> in <eos>\n",
            "\n"
          ]
        }
      ]
    },
    {
      "cell_type": "markdown",
      "metadata": {
        "id": "rHKlJr_m4KUT"
      },
      "source": [
        "### Part (b) -- 8%\n",
        "\n",
        "The training code that we use to train the model is mostly provided for you. \n",
        "The only part we left blank are the parts from Q2(b). Complete the code,\n",
        "and train a new AutoEncoder model for 1 epoch. You can train your model\n",
        "for longer if you want, but training tend to take a long time,\n",
        "so we're only checking to see that your training loss is trending down.\n",
        "\n",
        "If you are using Google Colab, you can use a GPU for this portion.\n",
        "Go to \"Runtime\" => \"Change Runtime Type\"  and set \"Hardware acceleration\" to GPU.\n",
        "Your Colab session will restart.\n",
        "You can move your model to the GPU by typing `model.cuda()`, and move\n",
        "other tensors to GPU (e.g. `xs = xs.cuda()`). To move a model back to CPU,\n",
        "type `model.cpu`. To move a tensor back, use `xs = xs.cpu()`. For training,\n",
        "your model and inputs need to be on the *same device*."
      ]
    },
    {
      "cell_type": "code",
      "metadata": {
        "id": "9IXnUFUJ4KUT",
        "colab": {
          "base_uri": "https://localhost:8080/"
        },
        "outputId": "e906c7be-98b4-4494-d3a8-69a552c767ca"
      },
      "source": [
        "def train_autoencoder(model, batch_size=64, learning_rate=0.001, num_epochs=10):\n",
        "    optimizer = optim.Adam(model.parameters(), lr=learning_rate)\n",
        "    criterion = nn.CrossEntropyLoss()\n",
        "\n",
        "    for ep in range(num_epochs):\n",
        "        field = data.Field(sequential=True,\n",
        "                                     tokenize=tokenize_and_randomize, \n",
        "                                     include_lengths=True,\n",
        "                                     batch_first=True,\n",
        "                                     use_vocab=False, \n",
        "                                     pad_token=vocab.stoi['<pad>'])\n",
        "        dataset = data.TabularDataset(train_path, \"tsv\", [('title', field)])\n",
        "        train_iter = data.BucketIterator(dataset,\n",
        "                                                   batch_size=batch_size,\n",
        "                                                   sort_key=lambda x: len(x.title),\n",
        "                                                   repeat=False)\n",
        "\n",
        "        for it, ((xs, lengths), _) in enumerate(train_iter):\n",
        "            #xs = xs.cuda()\n",
        "            optimizer.zero_grad()\n",
        "            output, hidden = model(xs)\n",
        "            target = xs[:,1:]\n",
        "            loss = criterion(output.reshape(-1, vocab_size),\n",
        "                        target.reshape(-1))\n",
        "            loss.backward()\n",
        "            optimizer.step()\n",
        "            xs = xs.cpu()\n",
        "            if (it+1) % 200 == 0:\n",
        "                print(\"[Iter %d] Loss %f\" % (it+1, float(loss)))\n",
        "\n",
        "model = AutoEncoder(vocab_size, 128, 128)\n",
        "train_autoencoder(model, 64, 0.002, num_epochs=1) #300 not enough , we use all the train data "
      ],
      "execution_count": 27,
      "outputs": [
        {
          "output_type": "stream",
          "name": "stdout",
          "text": [
            "[Iter 200] Loss 4.592181\n",
            "[Iter 400] Loss 4.219019\n",
            "[Iter 600] Loss 3.538469\n",
            "[Iter 800] Loss 3.777391\n",
            "[Iter 1000] Loss 3.684523\n",
            "[Iter 1200] Loss 2.774537\n",
            "[Iter 1400] Loss 3.058625\n",
            "[Iter 1600] Loss 3.140388\n",
            "[Iter 1800] Loss 3.193080\n",
            "[Iter 2000] Loss 3.011470\n",
            "[Iter 2200] Loss 2.821610\n",
            "[Iter 2400] Loss 2.903872\n",
            "[Iter 2600] Loss 2.811980\n"
          ]
        }
      ]
    },
    {
      "cell_type": "markdown",
      "metadata": {
        "id": "wQot60XU4KUT"
      },
      "source": [
        "### Part (c) -- 7%\n",
        "\n",
        "This model requires many epochs (>50) to train, and is quite slow without using a GPU.\n",
        "You can train a model yourself, or you can load the model weights that we have trained,\n",
        "and available on the course website (AE_RNN_model.pk).\n",
        "\n",
        "Assuming that your `AutoEncoder` is set up correctly, the following code should run without\n",
        "error."
      ]
    },
    {
      "cell_type": "code",
      "metadata": {
        "id": "vaUUhd-Q4KUU",
        "colab": {
          "base_uri": "https://localhost:8080/"
        },
        "outputId": "5e4d2d89-2db6-474a-a2f7-64010565b5b0"
      },
      "source": [
        "model = AutoEncoder(10000, 128, 128)\n",
        "checkpoint_path = '/content/gdrive/Shareddrives/Deep learning/Ex4/AE_RNN_model.pk' # Update me\n",
        "model.load_state_dict(torch.load(checkpoint_path))\n"
      ],
      "execution_count": 18,
      "outputs": [
        {
          "output_type": "execute_result",
          "data": {
            "text/plain": [
              "<All keys matched successfully>"
            ]
          },
          "metadata": {},
          "execution_count": 18
        }
      ]
    },
    {
      "cell_type": "markdown",
      "metadata": {
        "id": "sG-xazc24KUU"
      },
      "source": [
        "Then, repeat your code from Q2(d), for `train_data[10].title`\n",
        "with temperature settings 0.7, 0.9, and 1.5.\n",
        "Explain why we generally don't want the temperature setting to\n",
        "be too **small**."
      ]
    },
    {
      "cell_type": "code",
      "metadata": {
        "id": "AXF5iBHX4KUU",
        "colab": {
          "base_uri": "https://localhost:8080/"
        },
        "outputId": "4178099d-08d9-464e-9a60-a5d2ce1cc70f"
      },
      "source": [
        "# Include the generated sequences and explanation in your PDF report.\n",
        "\n",
        "headline = train_data[10].title\n",
        "input_seq = torch.Tensor([vocab.stoi[w] for w in headline]).unsqueeze(0).long()\n",
        "\n",
        "print(f'Original Headline: {headline}\\n\\n')\n",
        "for temp in [0.7,0.9,1.5]:\n",
        "  for i in range(5):\n",
        "    hidden = model.encode(input_seq)\n",
        "    seq = sample_sequence(model, hidden, temperature=temp)\n",
        "    print(f'Iter: {i}; Temp: {temp}; Generated Sequence:\\n   {seq}')\n",
        "  print('\\n')"
      ],
      "execution_count": 19,
      "outputs": [
        {
          "output_type": "stream",
          "name": "stdout",
          "text": [
            "Original Headline: ['<bos>', 'wall', 'street', 'rises', ',', 'limps', 'across', 'the', 'finish', 'line', 'of', 'a', 'turbulent', 'year', '<eos>']\n",
            "\n",
            "\n",
            "Iter: 0; Temp: 0.7; Generated Sequence:\n",
            "   ['wall', 'street', 'rises', ',', 'limps', 'die', 'win', 'at', 'of', 'sciences', 'to', 'election', 'sound']\n",
            "Iter: 1; Temp: 0.7; Generated Sequence:\n",
            "   ['wall', 'street', 'rises', ',', 'hut', 'protesters', 'race', 'hospital', 'course', 'fall', 'in', '<pad>', 'divestment']\n",
            "Iter: 2; Temp: 0.7; Generated Sequence:\n",
            "   ['wall', 'street', 'rises', ',', 'limps', 'across', 'the', 'finish', 'line', 'of', 'a', 'turbulent', 'year']\n",
            "Iter: 3; Temp: 0.7; Generated Sequence:\n",
            "   ['wall', 'street', 'rises', ',', 'limps', 'die', 'win', 'at', 'of', 'sciences', '<pad>', 'presidential', 'heads']\n",
            "Iter: 4; Temp: 0.7; Generated Sequence:\n",
            "   ['wall', 'street', 'rises', ',', 'limps', 'die', 'win', 'at', 'of', 'sciences', 'election', 'four', 'war']\n",
            "\n",
            "\n",
            "Iter: 0; Temp: 0.9; Generated Sequence:\n",
            "   ['wall', 'street', 'rises', ',', 'limps', 'die', 'win', 'at', '$', '<pad>', 'highway', 'a', 'bets']\n",
            "Iter: 1; Temp: 0.9; Generated Sequence:\n",
            "   ['wall', 'street', 'rises', ',', 'limps', 'die', 'win', 'at', 'of', 'sciences', ':', 'industry', 'heist']\n",
            "Iter: 2; Temp: 0.9; Generated Sequence:\n",
            "   ['wall', 'street', 'rises', ',', 'limps', 'die', 'win', 'at', 'of', 'sciences', ':', 'delegation', 'four']\n",
            "Iter: 3; Temp: 0.9; Generated Sequence:\n",
            "   ['wall', 'street', 'rises', ',', 'limps', 'die', 'win', 'at', 'of', 'sciences', '<pad>', 'presidential', 'turbulent']\n",
            "Iter: 4; Temp: 0.9; Generated Sequence:\n",
            "   ['wall', 'street', 'rises', ',', 'limps', 'die', 'win', 'at', 'of', 'sciences', '<pad>', 'presidential', 'amid']\n",
            "\n",
            "\n",
            "Iter: 0; Temp: 1.5; Generated Sequence:\n",
            "   ['wall', 'street', 'rises', ',', 'greens', 'australia', 'rides', ',', 'than', 'u.n', 'time', ':', 'dividend', 'sprint-t-mobile']\n",
            "Iter: 1; Temp: 1.5; Generated Sequence:\n",
            "   ['wall', \"'s\", 'ambev', 'extreme', 'after', 'samsung', '_num_-cn', 'with', 'after', 'line', '<pad>', 'fourth', 'faces']\n",
            "Iter: 2; Temp: 1.5; Generated Sequence:\n",
            "   ['wall', 'street', 'rises', ',', 'narrow', 'wellcare', 'australia', ',', 'after', 'right', '<pad>', 'halves', 'dead', 'mine']\n",
            "Iter: 3; Temp: 1.5; Generated Sequence:\n",
            "   ['wall', 'street', 'rises', ',', 'basis', 'ring', 'with', 'rumors', 'after', 'two', '<pad>', 'unless', 'coordinated']\n",
            "Iter: 4; Temp: 1.5; Generated Sequence:\n",
            "   ['wall', 'street', 'quarters', 'still', 'tournament', 'fights', 'halloween', 'future', 'drug', 'london', 'yemen', ':', 'cards']\n",
            "\n",
            "\n"
          ]
        }
      ]
    },
    {
      "cell_type": "markdown",
      "metadata": {
        "id": "tgjhZHJDRljU"
      },
      "source": [
        "**Write your explanation here:**\n",
        "If the temperature setting is too small we will select the values that they have the highest chance of connecting to the sequence and because of this we will get similar results(outputs). (we do not want to similar outputs).\n"
      ]
    },
    {
      "cell_type": "markdown",
      "metadata": {
        "id": "mftjD-To4KUU"
      },
      "source": [
        "## Question 4. Latent space manipulations (20%)\n",
        "\n",
        "In parts 2-3, we've explored the decoder portion of the autoencoder. In this section,\n",
        "let's explore the **encoder**. In particular, the encoder RNN gives us \n",
        "embeddings of news headlines!\n",
        "\n",
        "First, let's load the **validation** data set:"
      ]
    },
    {
      "cell_type": "code",
      "metadata": {
        "id": "08HhRGfm4KUU"
      },
      "source": [
        "valid_data = data.TabularDataset(\n",
        "    path=valid_path,                # data file path\n",
        "    format=\"tsv\",                   # fields are separated by a tab\n",
        "    fields=[('title', text_field)]) # list of fields (we have only one)"
      ],
      "execution_count": 20,
      "outputs": []
    },
    {
      "cell_type": "markdown",
      "metadata": {
        "id": "utBRC0tq4KUV"
      },
      "source": [
        "### Part (a) -- 4%\n",
        "\n",
        "Compute the embeddings of every item in the validation set. Then, store the\n",
        "result in a single PyTorch tensor of shape `[19046, 128]`, since there are\n",
        "19,046 headlines in the validation set."
      ]
    },
    {
      "cell_type": "code",
      "metadata": {
        "id": "9GmdVIPB4KUV"
      },
      "source": [
        "val_embeddings = []\n",
        "for val_point in valid_data:\n",
        "  input_seq1 = torch.Tensor([vocab.stoi[w] for w in val_point.title]).long().unsqueeze(0)\n",
        "  encoding = model.encode(input_seq1)[0]\n",
        "  val_embeddings.append(encoding)\n",
        "val_embeddings = torch.cat(tuple(val_embeddings),0)"
      ],
      "execution_count": 21,
      "outputs": []
    },
    {
      "cell_type": "markdown",
      "metadata": {
        "id": "BlKbT2vW4KUV"
      },
      "source": [
        "### Part (b) -- 4%\n",
        "\n",
        "Find the 5 closest headlines to the headline `valid_data[13]`. Use the\n",
        "cosine similarity to determine closeness. (Hint: You can use code from assignment 2)"
      ]
    },
    {
      "cell_type": "code",
      "metadata": {
        "id": "7AMt2HIz4KUV",
        "colab": {
          "base_uri": "https://localhost:8080/"
        },
        "outputId": "997b51ef-984d-4093-faf1-34ce978ca23a"
      },
      "source": [
        "word_emb = val_embeddings.detach().numpy()\n",
        "norms=np.linalg.norm(word_emb, axis=1)\n",
        "word_emb_norm=(word_emb.T/norms).T\n",
        "similars=np.matmul(word_emb_norm, word_emb_norm.T)\n",
        "def find_five_closest(index):\n",
        "\n",
        "  ind = np.argsort([similars[index]])\n",
        "  five_closest = [valid_data[i] for i in ind[0,-6:-1]] \n",
        "  five_closest.reverse()\n",
        "  print('\\n5 Closest headlines:')\n",
        "  for close_headline in five_closest:\n",
        "    print(f'{\" \".join(close_headline.title)}')\n",
        "\n",
        "\n",
        "print(f'Original headline:\\n{\" \".join(valid_data[13].title)}')\n",
        "find_five_closest(13)"
      ],
      "execution_count": 22,
      "outputs": [
        {
          "output_type": "stream",
          "name": "stdout",
          "text": [
            "Original headline:\n",
            "<bos> asia takes heart from new year gains in u.s. stock futures <eos>\n",
            "\n",
            "5 Closest headlines:\n",
            "<bos> italy 's salvini loses aura of invincibility in emilia setback <eos>\n",
            "<bos> saudi , russia look to seal deeper output cuts with oil producers <eos>\n",
            "<bos> eu orders quarantine for staff who traveled to northern italy <eos>\n",
            "<bos> update _num_-italy 's prime minister says new government will bicker less <eos>\n",
            "<bos> portugal 's moura pays tribute to cod fishermen at milan fashion close <eos>\n"
          ]
        }
      ]
    },
    {
      "cell_type": "markdown",
      "metadata": {
        "id": "cAzZt4bU4KUW"
      },
      "source": [
        "### Part (c) -- 4%\n",
        "\n",
        "Find the 5 closest headlines to another headline of your choice."
      ]
    },
    {
      "cell_type": "code",
      "metadata": {
        "id": "BkKR09Ce4KUW",
        "colab": {
          "base_uri": "https://localhost:8080/"
        },
        "outputId": "1cf176ea-43bf-4104-9c2c-5ad171a955b3"
      },
      "source": [
        "print(f'Original headline:\\n{\" \".join(valid_data[14].title[1:-1])}')\n",
        "find_five_closest(14)"
      ],
      "execution_count": 23,
      "outputs": [
        {
          "output_type": "stream",
          "name": "stdout",
          "text": [
            "Original headline:\n",
            "romney attacks trump , saying he causes dismay around the world\n",
            "\n",
            "5 Closest headlines:\n",
            "<bos> on palm sunday , pope says church needs to be humble <eos>\n",
            "<bos> netanyahu says omar and tlaib intended to harm israel on visit <eos>\n",
            "<bos> citing competition of values ' , pompeo lays into russia , china <eos>\n",
            "<bos> india complains to world aviation body after pakistan 's rebuff to modi <eos>\n",
            "<bos> from street kids to war romance , oscar foreign-film slate keeps it real <eos>\n"
          ]
        }
      ]
    },
    {
      "cell_type": "markdown",
      "metadata": {
        "id": "ftUooZD-4KUW"
      },
      "source": [
        "### Part (d) -- 8%\n",
        "\n",
        "Choose two headlines from the validation set, and find their embeddings.\n",
        "We will **interpolate** between the two embeddings like we did in the example presented in class for training autoencoders on MNIST.\n",
        "\n",
        "Find 3 points, equally spaced between the embeddings of your headlines.\n",
        "If we let $e_0$ be the embedding of your first headline and $e_4$ be\n",
        "the embedding of your second headline, your three points should be:\n",
        "\n",
        "\\begin{align*}\n",
        "e_1 &=  0.75 e_0 + 0.25 e_4 \\\\\n",
        "e_2 &=  0.50 e_0 + 0.50 e_4 \\\\\n",
        "e_3 &=  0.25 e_0 + 0.75 e_4 \\\\\n",
        "\\end{align*}\n",
        "\n",
        "Decode each of $e_1$, $e_2$ and $e_3$ five times, with a temperature setting\n",
        "that shows some variation in the generated sequences. Try to get a logical and cool sentence (this might be hard)."
      ]
    },
    {
      "cell_type": "code",
      "metadata": {
        "id": "7SYa3PNc4KUW",
        "colab": {
          "base_uri": "https://localhost:8080/"
        },
        "outputId": "da826aeb-2d88-4de6-c53a-3a498b48c0e7"
      },
      "source": [
        "headline_1 = valid_data[0].title\n",
        "input_seq1 = torch.Tensor([vocab.stoi[w] for w in headline_1]).long().unsqueeze(0)\n",
        "headline_2 = valid_data[33].title\n",
        "input_seq2 = torch.Tensor([vocab.stoi[w] for w in headline_2]).long().unsqueeze(0)\n",
        "x = torch.cat([input_seq1,input_seq2])\n",
        "embedding = model.encode(x)\n",
        "e0 = embedding[:,0,:]\n",
        "e4 = embedding[:,1,:]\n",
        "embedding_values = []\n",
        "\n",
        "e1 = (e0 * 0.75) + (e4 * 0.25)\n",
        "e2 = (e0 * 0.5) + (e4 * 0.5)\n",
        "e3 = (e0 * 0.25) + (e4 * 0.75)\n",
        "\n",
        "\n",
        "print('\\n')\n",
        "print('Temp: 0.7')\n",
        "print('First (e0):', headline_1)\n",
        "print('Second (e4):', headline_2)\n",
        "\n",
        "seq = sample_sequence(model, e1.view(1,1,128), temperature=0.7)\n",
        "print('\\n')\n",
        "print(f'(e1):  {seq}')\n",
        "\n",
        "seq = sample_sequence(model, e2.view(1,1,128), temperature=0.7)\n",
        "print('\\n')\n",
        "print(f'(e2):  {seq}')\n",
        "\n",
        "seq = sample_sequence(model, e3.view(1,1,128), temperature=0.7)\n",
        "print('\\n')\n",
        "print(f'(e3):  {seq}')\n",
        "\n",
        "\n"
      ],
      "execution_count": 24,
      "outputs": [
        {
          "output_type": "stream",
          "name": "stdout",
          "text": [
            "\n",
            "\n",
            "Temp: 0.7\n",
            "First (e0): ['<bos>', 'n.korea', \"'s\", 'kim', 'says', 'new', 'path', 'inevitable', 'if', 'u.s.', 'demands', 'unilateral', 'action', '<eos>']\n",
            "Second (e4): ['<bos>', 'kurdish', 'fighters', 'pull', 'out', 'of', 'flashpoint', 'town', ':', 'syria', \"'s\", 'defense', 'ministry', '<eos>']\n",
            "\n",
            "\n",
            "(e1):  ['n.korea', 'pm', 'sen.', 'new', 'any', 'face', 'ukrainian', 'boeing', 'rules', 'pact', 'the', 'abroad']\n",
            "\n",
            "\n",
            "(e2):  ['sudanese', 'diplomat', 'take', 'demand', 'meet', 'of', 'leaving', 'missiles', 'trump', 'meeting', 'carrier']\n",
            "\n",
            "\n",
            "(e3):  ['kurdish', 'exclusive', 'outcry', 'to', 'coronavirus', 'links', 'and', 'country', \"'s\", 'visit', 'family', 'cnbc']\n"
          ]
        }
      ]
    }
  ]
}